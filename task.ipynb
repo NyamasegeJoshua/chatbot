{
 "cells": [
  {
   "cell_type": "code",
   "execution_count": null,
   "metadata": {},
   "outputs": [],
   "source": [
    "# Performing Arithmetic operations in python\n",
    "# Getting the area of a triangle\n",
    "b=17\n",
    "h=13\n",
    "area = 1.0/2.0*b*h\n",
    "print(\"The area of the triangle is\", area)"
   ]
  },
  {
   "cell_type": "code",
   "execution_count": null,
   "metadata": {},
   "outputs": [],
   "source": [
    "# CalcuLate the average of three values and display result rounded up to desired number of decimals\n",
    "p=q=r=10\n",
    "a = 1.0/3.0*(p+q+r)\n",
    "print(\"The average og the three variables is\", a)\n",
    "print(\"The average of the three variables is %.2f\" %a)\n",
    "print(\"The average of the three variables is %d\" %a)"
   ]
  },
  {
   "cell_type": "code",
   "execution_count": null,
   "metadata": {},
   "outputs": [],
   "source": [
    "from __future__ import division\n",
    "p=q=r=10\n",
    "a=(p+q+r)/3\n",
    "print(\"The average og the three variables is\", a)"
   ]
  },
  {
   "attachments": {},
   "cell_type": "markdown",
   "metadata": {},
   "source": [
    "The from \"__future__\" statement  ensure the script uses the new style floating point division operator"
   ]
  },
  {
   "cell_type": "code",
   "execution_count": null,
   "metadata": {},
   "outputs": [],
   "source": [
    "# Exponentiation\n",
    "#Formula to calculate the volume of a sphere\n",
    "from __future__ import division\n",
    "r=3\n",
    "pi=22/7\n",
    "v= 4/3*pi*pow(r,3)\n",
    "print(\"The volume of the sphere is %.2f\" %v)"
   ]
  },
  {
   "cell_type": "code",
   "execution_count": null,
   "metadata": {},
   "outputs": [],
   "source": [
    "# Using the 'pi. from the math module\n",
    "from __future__ import division\n",
    "from math import pi\n",
    "\n",
    "r=3\n",
    "v= 4/3*pi*pow(r,3)\n",
    "print(\"The volume of the sphere is %.2f\" %v)"
   ]
  },
  {
   "cell_type": "code",
   "execution_count": null,
   "metadata": {},
   "outputs": [],
   "source": [
    "# MULTIPLE ASSIGNMENTN STATEMENT\n",
    "p,q,r = 10,20,30\n",
    "sum, avg = p+q+r, (p+q+r)/3\n",
    "print(\"The sum of the variables is\", sum)\n",
    "print(\"The average of the variables is\", avg)"
   ]
  },
  {
   "cell_type": "code",
   "execution_count": null,
   "metadata": {},
   "outputs": [],
   "source": [
    "# Escape seequences\n",
    "print(\"hello world\\nIt\\'s hot today\") # print 'It's hot today' in new line\n",
    "print(\"Festival Discount\\b\\b\\b\\b\\b\\b\\b\\b\\b Offer\")\n",
    "print('Name\\tEmail Address\\tContact Number')\n",
    "print('Bell sound \\a')\n",
    "print('\\\\Text enclosed in back slashes\\\\')"
   ]
  },
  {
   "cell_type": "code",
   "execution_count": null,
   "metadata": {},
   "outputs": [],
   "source": [
    "# FINDING A DATATYPE\n",
    "print(type(10))\n",
    "print(type('hello'))"
   ]
  },
  {
   "cell_type": "code",
   "execution_count": null,
   "metadata": {},
   "outputs": [],
   "source": [
    "a=10\n",
    "b=15.5\n",
    "c=\"hello\"\n",
    "d=[2,9,4]\n",
    "e=('apple','mango','banana')\n",
    "f=True\n",
    "\n",
    "print(type(a))\n",
    "print(type(b))\n",
    "print(type(c))\n",
    "print(type(d))\n",
    "print(type(e))\n",
    "print(type(f))"
   ]
  },
  {
   "cell_type": "code",
   "execution_count": null,
   "metadata": {},
   "outputs": [],
   "source": [
    "# DISPLAY OCTAL AND HEX values\n",
    "a=0o25\n",
    "b= ox1af\n",
    "print('value of a in decimal is', a)\n",
    "c=19\n",
    "print('19 in octal is o% and in hex is %x' % (c,c))\n",
    "d=oct(c)\n",
    "e=hex(c)\n",
    "\n",
    "print('19 in octal is, d' 'and and in hex is', e)\n"
   ]
  },
  {
   "cell_type": "code",
   "execution_count": null,
   "metadata": {},
   "outputs": [],
   "source": [
    "# GETTING DATA\n",
    "variable=input('Message')"
   ]
  },
  {
   "attachments": {},
   "cell_type": "markdown",
   "metadata": {},
   "source": [
    "MAKING DECISIONS"
   ]
  },
  {
   "cell_type": "code",
   "execution_count": null,
   "metadata": {},
   "outputs": [],
   "source": [
    "# Writing a program that asks the user to enter student's grades\n",
    "# ig the grades are greater than or equal to 60, the program should display the mwessage 'First Division'\n",
    "# if not, it should display 'second division'\n",
    "\n",
    "m = int(input('Enter the student grades: '))\n",
    "\n",
    "if (m>=60):\n",
    "    print(\"First Division\")\n",
    "else:\n",
    "    print(\"Second Division\")"
   ]
  },
  {
   "cell_type": "code",
   "execution_count": null,
   "metadata": {},
   "outputs": [],
   "source": [
    "\"\"\"In the next program, again you ask the user to enter a student’s grades. If\n",
    "the grades entered are greater than or equal to 60, a message First\n",
    "Division will be displayed. If the grades entered are greater than or equal\n",
    "to 45 but less than 60, the message Second Division will be displayed. If\n",
    "the grades entered are less than 45, Third Division will be displayed. For\n",
    "such programs, you nest an if...else block within the else block of the\n",
    "outer if...else statement.\"\"\"\n",
    "\n",
    "m=int(input(\"Enter the student grades: \"))\n",
    "if (m>=60):\n",
    "    print(\"First Division\")\n",
    "else:\n",
    "    if (m>=45):\n",
    "        print(\"Second Division\")\n",
    "    else:\n",
    "        print(\"Third Division\")"
   ]
  },
  {
   "cell_type": "code",
   "execution_count": null,
   "metadata": {},
   "outputs": [],
   "source": [
    "\"\"\"If you have multiple logical expressions to evaluate, and on the basis of\n",
    "those logical expressions you want to execute a specific set of code block,\n",
    "you need to use an if-elif-else statement.\n",
    "    \"\"\"\n",
    "# The previous example therefore becomes\n",
    "m = int(input(\"Enter grades: \"))\n",
    "if (m>=60):\n",
    "    print(\"First Division\")\n",
    "elif (m>=45):\n",
    "    print(\"Second Division\")\n",
    "else:\n",
    "    print(\"Third Division\")"
   ]
  },
  {
   "attachments": {},
   "cell_type": "markdown",
   "metadata": {},
   "source": [
    "CHAINING COMPARISON OPERATORS"
   ]
  },
  {
   "cell_type": "code",
   "execution_count": null,
   "metadata": {},
   "outputs": [],
   "source": [
    "m=int(input(\"Enter grades: \"))\n",
    "if (m>=60):\n",
    "    print(\"First Division\")\n",
    "if (45<=m<60):\n",
    "    print(\"Second Division\")\n",
    "if (m<45):\n",
    "    print(\"Third Division\")"
   ]
  },
  {
   "cell_type": "code",
   "execution_count": null,
   "metadata": {},
   "outputs": [],
   "source": [
    "\"\"\"The following program asks the user to enter a value between 1 and 10 and\n",
    "prints a message based on the value entered:\n",
    "    \"\"\"\n",
    "m=int(input(\"Enter a number between 1 and 10: \"))\n",
    "if 1<=m<=10:\n",
    "    print(\"Number is within range\")\n",
    "else:\n",
    "    print(\"The number is out of range\")"
   ]
  },
  {
   "cell_type": "code",
   "execution_count": null,
   "metadata": {},
   "outputs": [],
   "source": [
    "\"\"\"The following program determines if the value entered is even or odd. The\n",
    "program uses the modulo operator, %. Remember that the modulo operator\n",
    "returns the remainder of the division\n",
    "    \"\"\"\n",
    "    \n",
    "m = int(input(\"Enter a number\"))\n",
    "n=m%2\n",
    "if n==0:\n",
    "    print(\"The number is even\")\n",
    "else:\n",
    "    print(\"The number is odd\")"
   ]
  },
  {
   "attachments": {},
   "cell_type": "markdown",
   "metadata": {},
   "source": [
    "LOOPS"
   ]
  },
  {
   "attachments": {},
   "cell_type": "markdown",
   "metadata": {},
   "source": [
    "*The While Loop*\n",
    "\n",
    "A while loop is repeatedly executes a block of code as long as a specified\n",
    "logical expression remains true. The logical expression in a while loop is\n",
    "evaluated first, and if it evaluates to false, the body of the while loop will\n",
    "not execute. If the logical expression evaluates to true, the block of code in\n",
    "the while loop is executed. After executing the body, control jumps back to\n",
    "the beginning of the loop to confirm if the logical expression is still true.\n",
    "The loop will continue to execute until the logical expression evaluates to\n",
    "false, in which case the execution of the program continues from the\n",
    "statement following the while loop."
   ]
  },
  {
   "cell_type": "code",
   "execution_count": null,
   "metadata": {},
   "outputs": [],
   "source": [
    "\"\"\"The following program displays numbers from 1 to 10 using the while\n",
    "loop:\"\"\"\n",
    "\n",
    "k=1\n",
    "while k <= 10:\n",
    "    print (k)\n",
    "    k=k+1"
   ]
  },
  {
   "attachments": {},
   "cell_type": "markdown",
   "metadata": {},
   "source": [
    "**Breaking and Continuing a Loop**\n",
    "\n",
    "There are two situations when a loop terminates and you exit from a loop:\n",
    "when the logical expression evaluates to false, and on occurrence of a\n",
    "break statement in the loop.\n"
   ]
  },
  {
   "attachments": {},
   "cell_type": "markdown",
   "metadata": {},
   "source": [
    "**The Break Statement**\n",
    "\n",
    "The break statement terminates and exits from the current loop and\n",
    "resumes execution of the program from the statement following the loop. It\n",
    "is typically used in an infinite loop."
   ]
  },
  {
   "cell_type": "code",
   "execution_count": null,
   "metadata": {},
   "outputs": [],
   "source": [
    "\"\"\"The following program demonstrates using a break statement to terminate\n",
    "an infinite while loop to print 10 numbers:\"\"\"\n",
    "\n",
    "k=1\n",
    "while 1:\n",
    "    print (k)\n",
    "    k=k+1\n",
    "    if (k>10):\n",
    "        break"
   ]
  },
  {
   "attachments": {},
   "cell_type": "markdown",
   "metadata": {},
   "source": [
    "**The Continue Statement**\n",
    "\n",
    "The continue statement stops execution of the current iteration by\n",
    "skipping the rest of the loop and continuing to execute the loop with the\n",
    "next iterative value."
   ]
  },
  {
   "cell_type": "code",
   "execution_count": null,
   "metadata": {},
   "outputs": [],
   "source": [
    "\"\"\"The following program prints numbers from 1 to 10 except for the value 7:\"\"\"\n",
    "\n",
    "k=1\n",
    "while k<=10:\n",
    "    if k==7:\n",
    "        k+=1\n",
    "        continue\n",
    "    print (k)\n",
    "    k=k+1\n",
    "    \n",
    "\"\"\" Here we First, initialize variable k to 1. Then, set the while loop to execute as long\n",
    "as k is less than or equal to 10. In the while loop, print the value of k and\n",
    "then increment its value by 1. Also, skip the body of the loop through a\n",
    "continue statement when the value of k is 7. That is, you don’t print k but\n",
    "just increment its value by 1 to execute the loop with the next value in\n",
    "sequence\"\"\""
   ]
  },
  {
   "attachments": {},
   "cell_type": "markdown",
   "metadata": {},
   "source": [
    "*The Pass Statement**\n",
    "\n",
    "The pass statement is used in Python to indicate an empty block of\n",
    "statements. It is also used as a placeholder for code that you want to write\n",
    "later and acts as a reminder of where a program can be expanded.\n",
    "You can rewrite the previous program to display the numbers from 1 to 10\n",
    "except for 7 by using the pass statement as shown here:"
   ]
  },
  {
   "cell_type": "code",
   "execution_count": null,
   "metadata": {},
   "outputs": [],
   "source": [
    "k=1\n",
    "while k<=10:\n",
    "    if k==7:\n",
    "        pass\n",
    "    else:\n",
    "        print(k)\n",
    "    k+=1"
   ]
  },
  {
   "attachments": {},
   "cell_type": "markdown",
   "metadata": {},
   "source": [
    "**The Range Function**\n",
    "\n",
    "The range() function generates and returns a sequence of integers and is\n",
    "very commonly used in looping statements. There are three variations of\n",
    "the range() function, depending on the number of parameters passed to\n",
    "it:\n",
    "   * 1. range(x): Returns a list whose items are consecutive integers from 0\n",
    "    (included) to x (excluded).\n",
    "\n",
    "      2. range(x, y): Returns a list whose items are consecutive integers from\n",
    "      x (included) to y (excluded). The result is an empty list if x is greater\n",
    "      than or equal to y.\n",
    "    \n",
    "      3. range(x, y, step): Returns a list of integers from x (included) to y\n",
    "      (excluded), and the difference between each successive value is the\n",
    "      value defined by step. If step is less than 0, range counts down from\n",
    "      x to y. The function returns an empty list when x is greater than orequal to y and step is greater than 0, or when x is less than or equal\n",
    "      to y and step is less than 0. If 0 is specified as the step value, the\n",
    "      range() function raises an exception. When step is not specified, its\n",
    "      default value is 1.*"
   ]
  },
  {
   "attachments": {},
   "cell_type": "markdown",
   "metadata": {},
   "source": [
    "**The  for Loop**\n",
    "\n",
    "The for loop iterates through a sequence of objects. A sequence is a\n",
    "container object that may be in the form of a list, tuple or string\n",
    "\n",
    "    **    Note\n",
    "        Containers in Python means sets, sequences such as lists, tuples,\n",
    "        and strings, and mappings such as dictionaries. You will learn about\n",
    "        these containers in detail in Chapter 3, “Sequences.”**"
   ]
  },
  {
   "cell_type": "code",
   "execution_count": null,
   "metadata": {},
   "outputs": [],
   "source": [
    "\"\"\"The following program displays numbers from 1 to 10\"\"\"\n",
    "\n",
    "for i in range (1,11):\n",
    "    print(i)\n",
    "    \n",
    "\"\"\"This prints a sequence of numbers, which are generated from 1 to 10 using\n",
    "the built-in range() function. Since the value for step is not indicated, the\n",
    "default value of 1 is the step value.\"\"\""
   ]
  },
  {
   "cell_type": "code",
   "execution_count": null,
   "metadata": {},
   "outputs": [],
   "source": [
    "\"\"\"The following program displays the odd numbers between 1 and 10. The\n",
    "two successive odd values differ by 2, so you use the step value of 2 in the\n",
    "range() function.\"\"\"\n",
    "\n",
    "for i in range(1,11,2):\n",
    "    print(i)"
   ]
  },
  {
   "attachments": {},
   "cell_type": "markdown",
   "metadata": {},
   "source": [
    "**Membership operators**\n",
    "\n",
    "The following program displays the random values included in a tuple using\n",
    "the membership operator in through a for loop:"
   ]
  },
  {
   "cell_type": "code",
   "execution_count": null,
   "metadata": {},
   "outputs": [],
   "source": [
    "for i in (7,3,8,1,4):\n",
    "    print(i)\n",
    "    \n",
    "\"\"\"Here you provide a tuple of values in the for loop. The first value from the\n",
    "tuple will be assigned to the variable i, and the loop will be executed. Then\n",
    "the next value in the tuple will be assigned to i and the loop executed. The\n",
    "loop will be executed with each value in the tuple. In the body of the loop\n",
    "you display just the value assigned to i, displaying all the values in the\n",
    "tuple one by one.\"\"\""
   ]
  },
  {
   "attachments": {},
   "cell_type": "markdown",
   "metadata": {},
   "source": [
    "**The choice() Function**\n",
    "\n",
    "The choice() function picks and returns a random item from a sequence.\n",
    "It can be used with lists, tuples, or strings."
   ]
  },
  {
   "cell_type": "code",
   "execution_count": null,
   "metadata": {},
   "outputs": [],
   "source": [
    "\"\"\"The following program displays a random value between 1 and 9. To get\n",
    "random values, you will use a choice() function.\"\"\"\n",
    "\n",
    "from random import choice\n",
    "k=choice(range(1,10))\n",
    "print(\"Random number is\",k)"
   ]
  },
  {
   "cell_type": "code",
   "execution_count": null,
   "metadata": {},
   "outputs": [],
   "source": [
    "\"\"\"The following prints the prime numbers between 1 and 100.\"\"\"\n",
    "print(1)\n",
    "for i in range(2,101):\n",
    "    x=1\n",
    "    for j in range (2,i):\n",
    "        n = i%j\n",
    "        if n==0:\n",
    "            x=0\n",
    "            break\n",
    "    if x==1:\n",
    "        print(i)\n",
    "        \n",
    "\"\"\"This program displays value 1, knowing it is a prime number. Then it uses\n",
    "a for loop to generate values from 2 to 100, and each value is assigned to\n",
    "variable i. The value in variable i is divided by 2 through i–1 values. If it\n",
    "divides by any of these values, it is not a prime number and is not\n",
    "displayed. The value in variable i is displayed when it does not divide by\n",
    "any value between 2 and i–1.\"\"\""
   ]
  },
  {
   "attachments": {},
   "cell_type": "markdown",
   "metadata": {},
   "source": [
    "**SEQUENCES**\n",
    "\n",
    "Sequence contains objects that are kept in a specific order. You can identify an object in a sequence by it's index location. Also you can extract from a sequence with the slicing operation.\n",
    "\n",
    "Examples of sequence include;\n",
    "\n",
    "1. Strings - use quotes, such as 'hello', 'joshua'\n",
    "2. Lists - use square brackets, such as , [tiger, coffee, 'a', 10]\n",
    "3. Tuples - use parenthese such as, (tiger, coffee, 'a', 10)\n",
    "\n",
    "Tuples and strings are immutable - the cannot be modified after they are created. A list is mutable; you can append elements, removing existing elements, or rearrange elements. All modifications in a list are made without creating a new list.\n",
    "\n",
    "Positions are numbered from zero in sequences, i.e. the first element in a sequence is at index value 0"
   ]
  },
  {
   "attachments": {},
   "cell_type": "markdown",
   "metadata": {},
   "source": [
    "**Strngs**\n",
    "\n",
    "a string is a sequence of characters used to store and represent text information. String literal can be enclosed in single (') or double(\") or triple(''') quotes.\n",
    "Strings are immutabel, i.e., you cannot modify an existing object. When you perorm an operation on a string object, you create a new string object."
   ]
  },
  {
   "cell_type": "code",
   "execution_count": null,
   "metadata": {},
   "outputs": [],
   "source": [
    "# Examples of strings\n",
    "k = 'hello world!'\n",
    "k = \"hello world!\"\n",
    "k = '''hello world!'''"
   ]
  },
  {
   "cell_type": "code",
   "execution_count": null,
   "metadata": {},
   "outputs": [],
   "source": [
    "# FInding the length of a string\n",
    "n = input(\"Enter your name: \")\n",
    "l = len(n)\n",
    "print(\"The name entered is\", n, \"and its length is\", l)"
   ]
  },
  {
   "cell_type": "code",
   "execution_count": null,
   "metadata": {},
   "outputs": [],
   "source": [
    "# Check if the entered is nummeric or  non-numeric\n",
    "m = input(\"Enter Marks: \")\n",
    "if m.isdigit():\n",
    "    print(\"Entered data is numeric\")\n",
    "else:\n",
    "    print(\"Entered number is not numeric\")"
   ]
  },
  {
   "cell_type": "code",
   "execution_count": null,
   "metadata": {},
   "outputs": [],
   "source": [
    "# String concatenation\n",
    "s = \"Hello world!\"\n",
    "t = \"Nice Day\"\n",
    "print(s+t)\n",
    "print(s+\" \"+t)\n",
    "print(s*3)\n",
    "u=\"#\"\n",
    "print(\"The string after joining character # to the string\", t, ':', u.join(t))\n",
    "u='hello'\n",
    "print(\"The string after joining word, hello to the string\",t,':',u.join(t))"
   ]
  },
  {
   "attachments": {},
   "cell_type": "markdown",
   "metadata": {},
   "source": [
    "**Arrays**\n"
   ]
  },
  {
   "cell_type": "code",
   "execution_count": null,
   "metadata": {},
   "outputs": [],
   "source": [
    "# Creation of a numerical array\n",
    "p = [ 0 for i in range(5)]\n",
    "print(\"Enter five numbers\")\n",
    "for i in range(5):\n",
    "    p[i]=int(input())\n",
    "print(\"Numbers entered in the array are\", p)\n",
    "print(\"Numbers eneterd in the are\")\n",
    "\n",
    "for n in p:\n",
    "    print(n)"
   ]
  },
  {
   "attachments": {},
   "cell_type": "markdown",
   "metadata": {},
   "source": [
    "**FUNCTIONS AND MODULES**\n",
    "\n",
    "a function is a group of statements that can be invoked any number of times."
   ]
  },
  {
   "cell_type": "code",
   "execution_count": null,
   "metadata": {},
   "outputs": [],
   "source": [
    "# Function to add two numerical values\n",
    "def sum(a,b):\n",
    "    return a+b\n",
    "k = sum(10,20)\n",
    "print(\"The sum of the two numbers is\", k)"
   ]
  },
  {
   "attachments": {},
   "cell_type": "markdown",
   "metadata": {},
   "source": [
    "**The Return statement**\n",
    "\n",
    "This is used for returning output from thee function. The statement is optionally followed by an expression. When the return executes, the function terminates and the value of the expression is passed to the caller. When there is nothing to be returned to the caller, the function returns None.\n",
    "\n",
    "If a function doesn't require any external data to process, it can vbe defined with no parameters."
   ]
  },
  {
   "cell_type": "code",
   "execution_count": null,
   "metadata": {},
   "outputs": [],
   "source": [
    "# Functon that takes no parameter and returns a value\n",
    "def quantity():\n",
    "    return 10\n",
    "print (quantity())\n",
    "q=quantity()\n",
    "print(q)"
   ]
  },
  {
   "cell_type": "code",
   "execution_count": null,
   "metadata": {},
   "outputs": [],
   "source": [
    "\"\"\"The following program asks the user to enter a numerical value between 1 and 4 and\n",
    "displays it in text form. For example, if the user enters 1, the program will display\n",
    "one. If the user enters 2, the program will display two, and so on.\"\"\"\n",
    "def conv(x):\n",
    "    if x==1:\n",
    "        return \"one\"\n",
    "    if x==2:\n",
    "        return \"two\"\n",
    "    if x==3:\n",
    "        return \"three\"\n",
    "    if x==4:\n",
    "        return \"four\""
   ]
  },
  {
   "cell_type": "code",
   "execution_count": null,
   "metadata": {},
   "outputs": [],
   "source": [
    "alist = [10,20,30,40,50,60,70,80]\n",
    "print(alist[2:5])"
   ]
  },
  {
   "attachments": {},
   "cell_type": "markdown",
   "metadata": {},
   "source": [
    "**Default Value parameters**\n",
    "\n",
    "The following program demonstrates the use of a default parameter. In this program,\n",
    "you define a function that has two parameters; one is mandatory, and the other is\n",
    "optional or the default. When the function call passes the value for the default\n",
    "parameter, the passed value is applied; otherwise the default value is applied."
   ]
  },
  {
   "cell_type": "code",
   "execution_count": null,
   "metadata": {},
   "outputs": [],
   "source": [
    "def sum(x, y=10):\n",
    "    return x+y\n",
    "print(sum(10))\n",
    "print(sum(5,8))\n",
    "\n",
    "\"\"\"In this program, the sum() function is called twice. In the first call, only one\n",
    "argument, 10, is passed and is assigned to parameter x. The function will take the\n",
    "default value of the parameter y (10) while executing the function. In the second call\n",
    "to the sum() function, arguments 5 and 8 are passed and are assigned to the\n",
    "parameters x and y, respectively. The default value of y, 10, is ignored, and the value\n",
    "passed as an argument (8) is applied\"\"\""
   ]
  },
  {
   "attachments": {},
   "cell_type": "markdown",
   "metadata": {},
   "source": [
    "**Keyword Arguments**\n",
    "\n",
    "If when calling a function you want to supply arguments for only a few of its\n",
    "parameters, you do so by naming the parameters when passing arguments. A value\n",
    "passed to a parameter by referring to its name is known as a keyword argument. The\n",
    "advantage of using this approach is that you don’t have to worry about the order of\n",
    "the arguments."
   ]
  },
  {
   "cell_type": "code",
   "execution_count": null,
   "metadata": {},
   "outputs": [],
   "source": [
    "\"\"\"The following program demonstrates using keyword arguments when calling a\n",
    "function.\"\"\"\n",
    "\n",
    "def volume(l, b=5, h=10):\n",
    "    print ('l is', l, 'and b is', b, 'and h is', h, 'and volume is', l*b*h)\n",
    "volume(2, 4)\n",
    "volume(3, h=6)\n",
    "volume(h=7, l=2)"
   ]
  },
  {
   "attachments": {},
   "cell_type": "markdown",
   "metadata": {},
   "source": [
    "**Local and global variables**\n",
    "\n",
    "Local variables have scope within the body of the function in which they are defined.\n",
    "That is, local variables are accessible inside the function. Global variables are\n",
    "accessible inside and outside of functions."
   ]
  },
  {
   "attachments": {},
   "cell_type": "markdown",
   "metadata": {},
   "source": [
    "**Global variables**\n",
    "\n",
    "Global variables are not bound to any particular function and can be accessed within\n",
    "the body of the function, outside the body of the function, or by any other function.\n",
    "The changes made to a global variable by any function will be visible by other\n",
    "functions. If a function needs global variables, the first statement of the function\n",
    "must be this:"
   ]
  },
  {
   "cell_type": "code",
   "execution_count": null,
   "metadata": {},
   "outputs": [],
   "source": [
    "\"\"\"The following program explains the concept of global variables. The main thing to\n",
    "observe in this program is how the changes made in the global variable by one\n",
    "function can be seen in another function.\"\"\"\n",
    "def compute():\n",
    "    global x\n",
    "    print(\"Value of x in compute function is\",x)\n",
    "    x += 5\n",
    "    return None\n",
    "def dispvalue():\n",
    "    global x\n",
    "    print(\"Value of x in dispvalue function is\", x)\n",
    "    x -=2\n",
    "    return None\n",
    "\n",
    "x=0\n",
    "compute()\n",
    "dispvalue()\n",
    "compute()"
   ]
  },
  {
   "attachments": {},
   "cell_type": "markdown",
   "metadata": {},
   "source": [
    "In this program, you define two functions, compute() and dispvalue(). Both\n",
    "functions define a global variable, x. Remember, global variables are accessible in\n",
    "every part of the program, in the main program as well as functions. Changes made\n",
    "in global variables are visible in other parts of the program. You can see that the\n",
    "global variable x is initialized to 0 in the main program. The main program calls the\n",
    "compute() function to print the value of the global variable and modify its value. The\n",
    "value of the global variable x being 0, the compute() function prints 0, increments its\n",
    "value by 5, and returns to the main program. The main program then calls the\n",
    "dispvalue() function to display and modify the global variable. The value of the\n",
    "global variable x was set to 5 by the compute() function and so the dispvalue()\n",
    "function prints its value as 5 and decrements its value by 2, making it 3, and returns\n",
    "to the main program. The main program calls the compute() function again to see if\n",
    "the changes made to x in the dispvalue() function are visible in compute(). The\n",
    "compute() function displays the current value of x (3) and increments the value of x\n",
    "by 5, making it 8, and returns to the main program. This confirms that the global\n",
    "variable is accessible in every part of the program, and changes made to the global\n",
    "variable in one part of the program will be seen in another part."
   ]
  },
  {
   "attachments": {},
   "cell_type": "markdown",
   "metadata": {},
   "source": [
    "**Local Variables**\n",
    "\n",
    "By default, any variable that is bound within a function body is a local variable. Each\n",
    "function has its own copy of a local variable, and its value is not accessible or\n",
    "modifiable outside the body of the function.\n",
    "The following program demonstrates the use of local variables:"
   ]
  },
  {
   "cell_type": "code",
   "execution_count": null,
   "metadata": {},
   "outputs": [],
   "source": [
    "def compute (x):\n",
    "    x += 5\n",
    "    print (\"Value of x in function is \", x)\n",
    "    return None\n",
    "x=10\n",
    "compute(x)\n",
    "print (\"Value of x is still \", x)"
   ]
  },
  {
   "attachments": {},
   "cell_type": "markdown",
   "metadata": {},
   "source": [
    "The main program initializes the value of the local variable x at 10. The variable x is\n",
    "then passed to the compute() function as an argument. In the compute() function,\n",
    "the value of the parameter x is incremented by 5, making its value 15. But x being\n",
    "local to the function, the modified value of x (15) is visible only within the body of\n",
    "the compute() function. When you display the value of x in the compute() function, it\n",
    "will print the modified value 15, but when you return to the main program, the\n",
    "program picks up the older value of x (10). Hence, the main program prints the old\n",
    "value of x, 10."
   ]
  },
  {
   "attachments": {},
   "cell_type": "markdown",
   "metadata": {},
   "source": [
    "**Lambda Functions**\n",
    "\n",
    "For functions that are small enough (a single line expression) and that are going to\n",
    "be used only once, you generally don’t define function objects. Instead, you use\n",
    "lambda functions.\n",
    "A lambda function is an anonymous and one-use-only function that can have any\n",
    "number of parameters and that does some computation. The body of the lambda\n",
    "function is small, a single expression. The result of the expression is the value when\n",
    "the lambda is applied to an argument. There is no need for a return statement in\n",
    "lambda functions."
   ]
  },
  {
   "cell_type": "code",
   "execution_count": null,
   "metadata": {},
   "outputs": [],
   "source": [
    "def f(x): \n",
    "    return x*2\n",
    "f(3)"
   ]
  },
  {
   "attachments": {},
   "cell_type": "markdown",
   "metadata": {},
   "source": [
    "You can see that a function f takes a parameter x that it returns by multiplying it by2. On calling the function with argument 3, it will return 6 as output. You can rewrite\n",
    "this function as a lambda function:"
   ]
  },
  {
   "cell_type": "code",
   "execution_count": null,
   "metadata": {},
   "outputs": [],
   "source": [
    "g = lambda x: x*2\n",
    "g(3)"
   ]
  },
  {
   "attachments": {},
   "cell_type": "markdown",
   "metadata": {},
   "source": [
    "You can see that the lambda function has no name and is called through the variable\n",
    "it is assigned to."
   ]
  },
  {
   "attachments": {},
   "cell_type": "markdown",
   "metadata": {},
   "source": [
    "You can use a lambda function without even assigning it to a variable. The following\n",
    "is a lambda function with no name that accepts a single argument. It multiplies the\n",
    "argument by 2 and returns the result:"
   ]
  },
  {
   "cell_type": "code",
   "execution_count": null,
   "metadata": {},
   "outputs": [],
   "source": [
    "(lambda x: x*2)(3)"
   ]
  },
  {
   "attachments": {},
   "cell_type": "markdown",
   "metadata": {},
   "source": [
    "You can see that there are no parentheses around the argument list, and the return\n",
    "keyword is missing. The return is implied in the lambda function as the entire\n",
    "function consists of a single expression."
   ]
  },
  {
   "attachments": {},
   "cell_type": "markdown",
   "metadata": {},
   "source": [
    "**Applying  Functions to Sequences**\n",
    "\n"
   ]
  },
  {
   "attachments": {},
   "cell_type": "markdown",
   "metadata": {},
   "source": [
    "The filter() method returns a sequence consisting of those elements for which the\n",
    "included function returns true, those that satisfy the criteria given in the specified\n",
    "function. If the included function is None, the method returns those elements of the\n",
    "sequence that are supposed to be returned when the function returns true. Let’s\n",
    "examine the use of this method through an example. The following program filters\n",
    "out the odd values and returns only the even values using the filter() method."
   ]
  },
  {
   "cell_type": "code",
   "execution_count": null,
   "metadata": {},
   "outputs": [],
   "source": [
    "def evenval (x):\n",
    "    return x % 2 == 0\n",
    "evens = filter(evenval, range(1,11))\n",
    "print(list(evens))"
   ]
  },
  {
   "attachments": {},
   "cell_type": "markdown",
   "metadata": {},
   "source": [
    "In this example, you see that the filter() method uses an evenval() function and\n",
    "a range() method. The range(1,11) method will generate numerical values from 1\n",
    "to 10, which are then passed to the evenval() function as arguments. The\n",
    "evenval() function divides the parameter value by 2, compares the remainder with\n",
    "0, and returns True or False. The function will return True if the result of the mod\n",
    "operation is 0, indicating that the parameter’s value is even. The function will return\n",
    "False if the result of the mod operation is 1, indicating that the parameter’s value is\n",
    "odd. Since the filter() method will return only those values for which the included\n",
    "function returns True, the program will display only even values."
   ]
  },
  {
   "attachments": {},
   "cell_type": "markdown",
   "metadata": {},
   "source": [
    "The map method calls the included function for each of the elements in the sequence\n",
    "and returns a list of the returned values.\n",
    "The following example displays the square values of the first 10 sequence numbers\n",
    "using the map() method:"
   ]
  },
  {
   "cell_type": "code",
   "execution_count": null,
   "metadata": {},
   "outputs": [],
   "source": [
    "def square(x):\n",
    "    return x*x\n",
    "sqr = map(square, range(1,11))\n",
    "print(list(sqr))"
   ]
  },
  {
   "attachments": {},
   "cell_type": "markdown",
   "metadata": {},
   "source": [
    "In this example, the map() method includes a square() function and a range()\n",
    "method. The range(1,11) method will generate numerical values from 1 to 10, which\n",
    "are then passed to the square() function as arguments. The square() function\n",
    "simply returns the square of the supplied parameter. The program will display the\n",
    "square values of the first 10 sequence numbers."
   ]
  },
  {
   "cell_type": "code",
   "execution_count": null,
   "metadata": {},
   "outputs": [],
   "source": [
    "def add(num1, num2):\n",
    "    print(\"Number1:\", num1)\n",
    "    print(\"Number2:\", num2)\n",
    "    addition = num1 + num2\n",
    "    return addition\n",
    "res= add(2,4)\n",
    "print(res)"
   ]
  },
  {
   "cell_type": "code",
   "execution_count": null,
   "metadata": {},
   "outputs": [],
   "source": [
    "# function without any parameters\n",
    "def message():\n",
    "    print(\"Hello joshua \")\n",
    "# call the function\n",
    "message()"
   ]
  },
  {
   "cell_type": "code",
   "execution_count": null,
   "metadata": {},
   "outputs": [],
   "source": [
    "# Creating a function with parameters\n",
    "def course_function(name, course_name):\n",
    "    print(\"Hello\", name, \"welcome to programming\")\n",
    "    print(\"your course name is\", course_name)\n",
    "# Call the function\n",
    "course_function('joshua', 'python')"
   ]
  },
  {
   "cell_type": "code",
   "execution_count": null,
   "metadata": {},
   "outputs": [],
   "source": [
    "# CReating a function with parameters and return value\n",
    "# Function\n",
    "def calculator(a,b):\n",
    "    add = a + b\n",
    "    # Return the addition\n",
    "    return add\n",
    "# CAll function\n",
    "res = calculator(20,5)\n",
    "print(\"Addition:\", res)\n"
   ]
  },
  {
   "cell_type": "code",
   "execution_count": null,
   "metadata": {},
   "outputs": [],
   "source": [
    "# Calling a function\n",
    "def even_odd(n):\n",
    "    # check if number is even or odd\n",
    "    if n%2 == 0:\n",
    "        print(\"Even number\")\n",
    "    else:\n",
    "        print(\"Odd number\")\n",
    "# Calling function by its name\n",
    "even_odd(19)"
   ]
  },
  {
   "cell_type": "code",
   "execution_count": null,
   "metadata": {},
   "outputs": [],
   "source": [
    "# Calling a function of a module\n",
    "# Import randint function\n",
    "from random import randint\n",
    "# Call randint function to get random number\n",
    "print(randint(10,20))\n"
   ]
  },
  {
   "cell_type": "code",
   "execution_count": null,
   "metadata": {},
   "outputs": [],
   "source": [
    "# Retuen Value From a function\n",
    "def is_even(list1):\n",
    "    even_num = []\n",
    "    for n in list1:\n",
    "        if n%2 == 0:\n",
    "            even_num.append(n)\n",
    "    # Return a list\n",
    "    return even_num\n",
    "\n",
    "# Pass list to the function\n",
    "even_num = is_even([1,2,3,42,51,62,70,5,9])\n",
    "print(\"Even numbers are:\", even_num)"
   ]
  },
  {
   "cell_type": "code",
   "execution_count": null,
   "metadata": {},
   "outputs": [],
   "source": [
    "# Return Multiple Values\n",
    "def arithmetic(num1,num2):\n",
    "    add=num1+num2\n",
    "    sub=num1-num2\n",
    "    multiply=num1*num2\n",
    "    division=num1/num2\n",
    "    # Return four values\n",
    "    return add, sub, multiply,division\n",
    "# read four return values in four variables\n",
    "a,b,c,d = arithmetic(10,2)\n",
    "\n",
    "print(\"Addition: \", a)\n",
    "print(\"Subtraction: \", b)\n",
    "print(\"Mutliplication: \", c)\n",
    "print(\"Division: \", d)"
   ]
  },
  {
   "cell_type": "code",
   "execution_count": 1,
   "metadata": {},
   "outputs": [
    {
     "name": "stdout",
     "output_type": "stream",
     "text": [
      "3.5.2.2.2.2.2.2.2.2.2.2.2.2.2.2.2.2.2.2.2.2.2.2.2.2.2.2.2.2.2.2.2.2.2.2.2.2.2.2.2.2.2.2.2.2.2.2.2.2.2.2.2.2.2.2.2.2.2.2.2.2.2.2.2.2.2.2.2.2.2.2.2.2.2.2.2.2.2.2.2.2.2.2.2.2.2.2.2.2.2.2.2.2.2.2.2.2.2.2.2.2.2.2.2.2.2.2.2.2.2.2.2.2.2.2.2.2.2.2.2.2.2.2.2.2.2.2.2.2.2.2.2.2.2.2.2.2.2.2.2.2.2.2.2.2.2.2.2.2.2.2.2.2.2.2.2.2.2.2.2.2.2.2.2.2.2.2.2.2.2.2.2.2.2.2.2.2.2.2.2.2.2.2.2.2.2.2.2.2.2.2.2.2.2.2.2.2.2.2.2.2.2.2.2.2.2.2.2.2.2.2.2.2.2.2.2.2.2.2.2.2.2.2.2.2.2.2.2.2.2.2.2.2.2.2.2.2.2.2.2.2.2.2.2.2.2.2.2.2.2.2.2.2.2.2.2.2.2.2.2.2.2.2.2.2.2.2.2.2.2.2.2.2.2.2.2.2.2.2.2.2.2.2.2.2.2.2.2.2.2.2.2.2.2.2.2.2.2.2.2.2.2.2.2.2.2.2.2.2.2.2.2.2.2.2.2.2.2.2.2.2.2.2.2.2.2.2.2.2.2.2.2.2.2.2.2.2.2.2.2.2.2.2.2.2.2.2.2.2.2.2.2.2.2.2.2.2.2.2.2.2.2.2.2.2.2.2.2.2.2.2.2.2.2.2.2.2.2.2.2.2.2.2.2.2.2.2.2.2.2.2.2.2.2.2.2.2.2.2.2.2.2.2.2.2.2.2.2.2.2.2.2.2.2.2.2.2.2.2.2.2.2.2.2.2.2.2.2.2.2.2.2.2.2.2.2.2.2.2.2.2.2.2.2.2.2.2.2.2.2.2.2.2.2.2.2.2.2.2.2.2.2.2.2.2.2.2.2.2.2.2.2.2.2.2.2.2.2.2.2.2.2.2.2.2.2.2.2.2.2.2.2.2.2.2.2.2.2.2.2.2.2.2.2.2.2.2.2.2.2.2.\n",
      "The first step in making a successful website is to know what makes a website successful. There are three factors that make a website successful:\n",
      "\n",
      "The user experience The content The design\n",
      "\n",
      "The user experience is the most important because it is what we are trying to achieve. The user experience is the way a user interacts with your website. It is the way your visitors use your website and it is what makes your website unique.\n",
      "\n",
      "The content is the most important part of a website because it is what makes your website unique. This is what your visitors are looking for when they visit your website. The content is what makes your website unique.\n",
      "\n",
      "The design is the last thing to be considered. The design is what makes your website unique. It is what makes your website stand out from all the other websites out there.\n",
      "\n",
      "Make sure to take the time to consider each of these three factors. You can use the following questions to help you decide which factor is most important to your website.\n",
      "\n",
      "Is your website user-friendly?\n",
      "\n",
      "This is the most important question to ask yourself because it is the most important factor in your website. You can use the following questions to help you decide.\n",
      "\n",
      "Does your website look professional?\n",
      "\n",
      "Does your website look professional? Does your website look like it belongs to your company?\n",
      "\n",
      "Does your website look like it belongs to your company? Does your website look like it belongs to your industry?\n",
      "\n",
      "Does your website look like it belongs to your industry? Does your website look like it belongs to the website industry?\n",
      "\n",
      "Does your website look like it belongs to the website industry? Does your website look like it belongs to the website market?\n",
      "\n",
      "Does your website look like it belongs to the website market? Does your website look like it belongs to the website of your competitors?\n",
      "\n",
      "Does your website look like it belongs to the website of your competitors? Does your website have a clean design?\n",
      "\n",
      "Does your website have a clean design? Does your website have a unique design?\n",
      "\n",
      "Does your website have a unique design? Does your website have a unique design? Does your website have a unique design?\n",
      "\n",
      "Does your website have a unique design? Does your website have a unique design? Does your website have a unique design?\n",
      "\n",
      "Does your website have a unique design? Does your website have a unique design? Does your website have a unique design?\n",
      "\n",
      "Does your website have a unique design? Does your website have a unique design? Does your website have a unique design?\n",
      "\n",
      "Does your website have a unique design? Does your website have a unique design? Does your website have a unique design?\n",
      "\n",
      "Does your website have a unique design? Does your website have a unique design? Does your website have a unique design?\n",
      "\n",
      "Does your website have a unique design? Does your website have a unique design? Does your website have a unique design?\n",
      "\n",
      "Does your website have a unique design? Does your website have a unique design? Does your website have a unique design?\n",
      "\n",
      "Does your website have a unique design? Does your website have a unique design? Does your website have a unique design?\n",
      "\n",
      "Does your website have a unique design? Does your website have a unique design? Does your website have a unique design?\n",
      "\n",
      "Does your website have a unique design? Does your website have a unique design? Does your website have a unique design?\n",
      "\n",
      "Does your website have a unique design? Does your website have a unique design? Does your website have a unique design?\n",
      "\n",
      "Does your website have a unique design? Does your website have a unique design? Does your website have a unique design?\n",
      "\n",
      "Does your website have a unique design? Does your website have a unique design? Does your website have a unique design?\n",
      "\n",
      "Does your website have a unique design? Does your website have a unique design? Does your website have a unique design?\n",
      "\n",
      "Does your website have a unique design? Does your website have a unique design? Does your website have a unique design?\n",
      "\n",
      "Does your website have a unique design? Does your website have a unique design? Does your website have a unique design?\n",
      "\n",
      "Does your website have a unique design? Does your website have a unique design? Does your website have a unique design?\n",
      "\n",
      "Does your website have a unique design? Does your website have a unique design? Does your website have a unique design?\n",
      "\n",
      "Does your website have a unique design? Does your website have a unique design? Does your website have a unique design?\n",
      "\n",
      "Does your website have a unique design? Does your website have a unique design? Does your website have a unique design?\n",
      "\n",
      "Does your website have a unique design? Does your website have a unique design? Does your website have a unique design?\n",
      "\n",
      "Does your website have a unique design? Does your website have a unique design? Does your website have a unique design?\n",
      "\n",
      "Does your website have a unique design?\n",
      "The first time I saw a picture of a woman in a wheelchair, I was in a wheelchair myself. I was in the hospital, and I saw a picture of a woman in a wheelchair. And I thought, \"Oh my gosh, she's in a wheelchair. She's like me.\" And I had this moment of, \"Oh, that's cool.\" And then I saw a picture of a man in a wheelchair, and I thought, \"Oh, that's not cool. He's in a wheelchair. That's not cool.\" And then I saw a picture of a man and a woman in wheelchairs, and I thought, \"Oh, that's kind of cool.\" But I was still in a wheelchair, and I still thought that was not cool.\n",
      "\n",
      "The first time I saw a picture of a woman in a wheelchair, I was in a wheelchair myself. I was in the hospital, and I saw a picture of a woman in a wheelchair. And I thought, \"Oh my gosh, she's in a wheelchair. She's like me.\" And I had this moment of, \"Oh, that's cool.\" And then I saw a picture of a man in a wheelchair, and I thought, \"Oh, that's not cool. He's in a wheelchair. That's not cool.\" And then I saw a picture of a man and a woman in wheelchairs, and I thought, \"Oh, that's kind of cool.\" But I was still in a wheelchair, and I still thought that was not cool.\n",
      "\n",
      "The first time I saw a picture of a woman in a wheelchair, I was in a wheelchair myself. I was in the hospital, and I saw a picture of a woman in a wheelchair. And I thought, \"Oh my gosh, she's in a wheelchair. She's like me.\" And I had this moment of, \"Oh, that's cool.\" And then I saw a picture of a man in a wheelchair, and I thought, \"Oh, that's not cool. He's in a wheelchair. That's not cool.\" And then I saw a picture of a man and a woman in wheelchairs, and I thought, \"Oh, that's kind of cool.\" But I was still in a wheelchair, and I still thought that was not cool.\n"
     ]
    }
   ],
   "source": [
    "# Install the required packages\n",
    "#pip install openai\n",
    "\n",
    "import openai\n",
    "from config import API_KEY\n",
    "\n",
    "openai.api_key = API_KEY\n",
    "\n",
    "def chatBot(prompt):\n",
    "    completion = openai.Completion.create(\n",
    "        engine=\"davinci\",\n",
    "        prompt=prompt,\n",
    "        max_tokens=1024,\n",
    "        n=1,\n",
    "        temperature=0.7,\n",
    "        stop=None,\n",
    "        frequency_penalty=0,\n",
    "        presence_penalty=0\n",
    "    )\n",
    "    response = completion.choices[0].text \n",
    "    return response\n",
    "\n",
    "while True:\n",
    "    prompt = input()\n",
    "    print(chatBot(prompt))\n",
    "\n",
    "\n",
    "# test code\n",
    "while True:\n",
    "    prompt = input()\n",
    "    print(chatBot(prompt))"
   ]
  }
 ],
 "metadata": {
  "kernelspec": {
   "display_name": "Python 3",
   "language": "python",
   "name": "python3"
  },
  "language_info": {
   "codemirror_mode": {
    "name": "ipython",
    "version": 3
   },
   "file_extension": ".py",
   "mimetype": "text/x-python",
   "name": "python",
   "nbconvert_exporter": "python",
   "pygments_lexer": "ipython3",
   "version": "3.11.1"
  },
  "orig_nbformat": 4,
  "vscode": {
   "interpreter": {
    "hash": "de47f5c92c0ee6f12a59a5613ac5feff6aab19ddff207ba0b3964cced08c4ccc"
   }
  }
 },
 "nbformat": 4,
 "nbformat_minor": 2
}
